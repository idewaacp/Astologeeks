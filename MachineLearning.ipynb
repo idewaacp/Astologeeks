{
  "cells": [
    {
      "cell_type": "code",
      "execution_count": 66,
      "metadata": {
        "id": "q9bmnkkZvELm"
      },
      "outputs": [],
      "source": [
        "import numpy as np\n",
        "import pandas as pd\n",
        "import matplotlib.pyplot as plt\n",
        "import seaborn as sns\n",
        "import tensorflow as tf\n",
        "from sklearn.model_selection import train_test_split\n",
        "from tensorflow.keras.preprocessing.text import Tokenizer\n",
        "from tensorflow.keras.preprocessing.sequence import pad_sequences\n",
        "\n",
        "from datetime import datetime\n",
        "from dateutil.relativedelta import relativedelta"
      ]
    },
    {
      "cell_type": "code",
      "execution_count": 67,
      "metadata": {
        "colab": {
          "base_uri": "https://localhost:8080/",
          "height": 424
        },
        "id": "SXX_BXSCv4Br",
        "outputId": "098be42b-a022-4911-ad54-e92c780dd41f"
      },
      "outputs": [
        {
          "output_type": "execute_result",
          "data": {
            "text/html": [
              "<div>\n",
              "<style scoped>\n",
              "    .dataframe tbody tr th:only-of-type {\n",
              "        vertical-align: middle;\n",
              "    }\n",
              "\n",
              "    .dataframe tbody tr th {\n",
              "        vertical-align: top;\n",
              "    }\n",
              "\n",
              "    .dataframe thead th {\n",
              "        text-align: right;\n",
              "    }\n",
              "</style>\n",
              "<table border=\"1\" class=\"dataframe\">\n",
              "  <thead>\n",
              "    <tr style=\"text-align: right;\">\n",
              "      <th></th>\n",
              "      <th>sign</th>\n",
              "      <th>category</th>\n",
              "      <th>date</th>\n",
              "      <th>horoscope</th>\n",
              "    </tr>\n",
              "  </thead>\n",
              "  <tbody>\n",
              "    <tr>\n",
              "      <th>0</th>\n",
              "      <td>aries</td>\n",
              "      <td>general</td>\n",
              "      <td>20200617</td>\n",
              "      <td>There's a great day ahead of you, Aries. You'l...</td>\n",
              "    </tr>\n",
              "    <tr>\n",
              "      <th>1</th>\n",
              "      <td>aries</td>\n",
              "      <td>general</td>\n",
              "      <td>20200618</td>\n",
              "      <td>People will understand and appreciate your des...</td>\n",
              "    </tr>\n",
              "    <tr>\n",
              "      <th>2</th>\n",
              "      <td>aries</td>\n",
              "      <td>general</td>\n",
              "      <td>20200619</td>\n",
              "      <td>You are very interested in technological break...</td>\n",
              "    </tr>\n",
              "    <tr>\n",
              "      <th>3</th>\n",
              "      <td>aries</td>\n",
              "      <td>general</td>\n",
              "      <td>20200620</td>\n",
              "      <td>Stress from overwork could have you feeling we...</td>\n",
              "    </tr>\n",
              "    <tr>\n",
              "      <th>4</th>\n",
              "      <td>aries</td>\n",
              "      <td>general</td>\n",
              "      <td>20200621</td>\n",
              "      <td>This is a good day to stand up for yourself an...</td>\n",
              "    </tr>\n",
              "    <tr>\n",
              "      <th>...</th>\n",
              "      <td>...</td>\n",
              "      <td>...</td>\n",
              "      <td>...</td>\n",
              "      <td>...</td>\n",
              "    </tr>\n",
              "    <tr>\n",
              "      <th>21954</th>\n",
              "      <td>pisces</td>\n",
              "      <td>birthday</td>\n",
              "      <td>20210612</td>\n",
              "      <td>Celebrate in style on your birthday in prepara...</td>\n",
              "    </tr>\n",
              "    <tr>\n",
              "      <th>21955</th>\n",
              "      <td>pisces</td>\n",
              "      <td>birthday</td>\n",
              "      <td>20210613</td>\n",
              "      <td>Imagine your life as if it was exactly the way...</td>\n",
              "    </tr>\n",
              "    <tr>\n",
              "      <th>21956</th>\n",
              "      <td>pisces</td>\n",
              "      <td>birthday</td>\n",
              "      <td>20210614</td>\n",
              "      <td>Fun, playfulness, and humor are easy to manife...</td>\n",
              "    </tr>\n",
              "    <tr>\n",
              "      <th>21957</th>\n",
              "      <td>pisces</td>\n",
              "      <td>birthday</td>\n",
              "      <td>20210615</td>\n",
              "      <td>Your birthday brings you a fresh start, as you...</td>\n",
              "    </tr>\n",
              "    <tr>\n",
              "      <th>21958</th>\n",
              "      <td>pisces</td>\n",
              "      <td>birthday</td>\n",
              "      <td>20210616</td>\n",
              "      <td>You will probably enjoy being the center of at...</td>\n",
              "    </tr>\n",
              "  </tbody>\n",
              "</table>\n",
              "<p>21959 rows × 4 columns</p>\n",
              "</div>"
            ],
            "text/plain": [
              "         sign  ...                                          horoscope\n",
              "0       aries  ...  There's a great day ahead of you, Aries. You'l...\n",
              "1       aries  ...  People will understand and appreciate your des...\n",
              "2       aries  ...  You are very interested in technological break...\n",
              "3       aries  ...  Stress from overwork could have you feeling we...\n",
              "4       aries  ...  This is a good day to stand up for yourself an...\n",
              "...       ...  ...                                                ...\n",
              "21954  pisces  ...  Celebrate in style on your birthday in prepara...\n",
              "21955  pisces  ...  Imagine your life as if it was exactly the way...\n",
              "21956  pisces  ...  Fun, playfulness, and humor are easy to manife...\n",
              "21957  pisces  ...  Your birthday brings you a fresh start, as you...\n",
              "21958  pisces  ...  You will probably enjoy being the center of at...\n",
              "\n",
              "[21959 rows x 4 columns]"
            ]
          },
          "metadata": {},
          "execution_count": 67
        }
      ],
      "source": [
        "df = pd.read_csv('horoscope_saved.csv')\n",
        "#df['date'] = pd.to_datetime(df['date'], format='%Y%m%d')\n",
        "df"
      ]
    },
    {
      "cell_type": "code",
      "execution_count": null,
      "metadata": {
        "id": "ZvuRPu2NlULY"
      },
      "outputs": [],
      "source": [
        "#df['date'] = df['date'].dt.date\n",
        "#df"
      ]
    },
    {
      "cell_type": "code",
      "execution_count": 46,
      "metadata": {
        "colab": {
          "base_uri": "https://localhost:8080/"
        },
        "id": "vZ7AaeOZHUqy",
        "outputId": "e011e267-83d2-4dc5-f3d0-c784f347be5e"
      },
      "outputs": [
        {
          "output_type": "stream",
          "name": "stdout",
          "text": [
            "<class 'pandas.core.frame.DataFrame'>\n",
            "RangeIndex: 21959 entries, 0 to 21958\n",
            "Data columns (total 4 columns):\n",
            " #   Column     Non-Null Count  Dtype \n",
            "---  ------     --------------  ----- \n",
            " 0   sign       21959 non-null  object\n",
            " 1   category   21959 non-null  object\n",
            " 2   date       21959 non-null  int64 \n",
            " 3   horoscope  21959 non-null  object\n",
            "dtypes: int64(1), object(3)\n",
            "memory usage: 686.3+ KB\n"
          ]
        }
      ],
      "source": [
        "df.info()"
      ]
    },
    {
      "cell_type": "code",
      "execution_count": 47,
      "metadata": {
        "colab": {
          "base_uri": "https://localhost:8080/",
          "height": 394
        },
        "id": "QI9N6Kyp1HuB",
        "outputId": "1d0709fa-cd5f-4f74-a0d3-fa9638213aea"
      },
      "outputs": [
        {
          "output_type": "execute_result",
          "data": {
            "text/html": [
              "<div>\n",
              "<style scoped>\n",
              "    .dataframe tbody tr th:only-of-type {\n",
              "        vertical-align: middle;\n",
              "    }\n",
              "\n",
              "    .dataframe tbody tr th {\n",
              "        vertical-align: top;\n",
              "    }\n",
              "\n",
              "    .dataframe thead th {\n",
              "        text-align: right;\n",
              "    }\n",
              "</style>\n",
              "<table border=\"1\" class=\"dataframe\">\n",
              "  <thead>\n",
              "    <tr style=\"text-align: right;\">\n",
              "      <th></th>\n",
              "      <th>sign</th>\n",
              "      <th>category</th>\n",
              "      <th>date</th>\n",
              "      <th>horoscope</th>\n",
              "    </tr>\n",
              "  </thead>\n",
              "  <tbody>\n",
              "    <tr>\n",
              "      <th>count</th>\n",
              "      <td>21959</td>\n",
              "      <td>21959</td>\n",
              "      <td>2.195900e+04</td>\n",
              "      <td>21959</td>\n",
              "    </tr>\n",
              "    <tr>\n",
              "      <th>unique</th>\n",
              "      <td>12</td>\n",
              "      <td>5</td>\n",
              "      <td>NaN</td>\n",
              "      <td>12050</td>\n",
              "    </tr>\n",
              "    <tr>\n",
              "      <th>top</th>\n",
              "      <td>leo</td>\n",
              "      <td>wellness</td>\n",
              "      <td>NaN</td>\n",
              "      <td>It's a generous, joy-filled year when the good...</td>\n",
              "    </tr>\n",
              "    <tr>\n",
              "      <th>freq</th>\n",
              "      <td>1830</td>\n",
              "      <td>4392</td>\n",
              "      <td>NaN</td>\n",
              "      <td>12</td>\n",
              "    </tr>\n",
              "    <tr>\n",
              "      <th>mean</th>\n",
              "      <td>NaN</td>\n",
              "      <td>NaN</td>\n",
              "      <td>2.020523e+07</td>\n",
              "      <td>NaN</td>\n",
              "    </tr>\n",
              "    <tr>\n",
              "      <th>std</th>\n",
              "      <td>NaN</td>\n",
              "      <td>NaN</td>\n",
              "      <td>4.688102e+03</td>\n",
              "      <td>NaN</td>\n",
              "    </tr>\n",
              "    <tr>\n",
              "      <th>min</th>\n",
              "      <td>NaN</td>\n",
              "      <td>NaN</td>\n",
              "      <td>2.020062e+07</td>\n",
              "      <td>NaN</td>\n",
              "    </tr>\n",
              "    <tr>\n",
              "      <th>25%</th>\n",
              "      <td>NaN</td>\n",
              "      <td>NaN</td>\n",
              "      <td>2.020092e+07</td>\n",
              "      <td>NaN</td>\n",
              "    </tr>\n",
              "    <tr>\n",
              "      <th>50%</th>\n",
              "      <td>NaN</td>\n",
              "      <td>NaN</td>\n",
              "      <td>2.020122e+07</td>\n",
              "      <td>NaN</td>\n",
              "    </tr>\n",
              "    <tr>\n",
              "      <th>75%</th>\n",
              "      <td>NaN</td>\n",
              "      <td>NaN</td>\n",
              "      <td>2.021032e+07</td>\n",
              "      <td>NaN</td>\n",
              "    </tr>\n",
              "    <tr>\n",
              "      <th>max</th>\n",
              "      <td>NaN</td>\n",
              "      <td>NaN</td>\n",
              "      <td>2.021062e+07</td>\n",
              "      <td>NaN</td>\n",
              "    </tr>\n",
              "  </tbody>\n",
              "</table>\n",
              "</div>"
            ],
            "text/plain": [
              "         sign  ...                                          horoscope\n",
              "count   21959  ...                                              21959\n",
              "unique     12  ...                                              12050\n",
              "top       leo  ...  It's a generous, joy-filled year when the good...\n",
              "freq     1830  ...                                                 12\n",
              "mean      NaN  ...                                                NaN\n",
              "std       NaN  ...                                                NaN\n",
              "min       NaN  ...                                                NaN\n",
              "25%       NaN  ...                                                NaN\n",
              "50%       NaN  ...                                                NaN\n",
              "75%       NaN  ...                                                NaN\n",
              "max       NaN  ...                                                NaN\n",
              "\n",
              "[11 rows x 4 columns]"
            ]
          },
          "metadata": {},
          "execution_count": 47
        }
      ],
      "source": [
        "df.describe(include = 'all')"
      ]
    },
    {
      "cell_type": "code",
      "execution_count": 48,
      "metadata": {
        "colab": {
          "base_uri": "https://localhost:8080/"
        },
        "id": "r55q5PrU2QuU",
        "outputId": "d151b05a-ffc3-4bc6-b364-50334e1d971f"
      },
      "outputs": [
        {
          "output_type": "execute_result",
          "data": {
            "text/plain": [
              "sign         0\n",
              "category     0\n",
              "date         0\n",
              "horoscope    0\n",
              "dtype: int64"
            ]
          },
          "metadata": {},
          "execution_count": 48
        }
      ],
      "source": [
        "df.isnull().sum()"
      ]
    },
    {
      "cell_type": "code",
      "execution_count": 49,
      "metadata": {
        "colab": {
          "base_uri": "https://localhost:8080/"
        },
        "id": "IwFgDmal5mQ2",
        "outputId": "37c9b2d7-7b32-48d5-e256-df75b41188c4"
      },
      "outputs": [
        {
          "output_type": "execute_result",
          "data": {
            "text/plain": [
              "(21959, 4)"
            ]
          },
          "metadata": {},
          "execution_count": 49
        }
      ],
      "source": [
        "df.shape"
      ]
    },
    {
      "cell_type": "markdown",
      "metadata": {
        "id": "GCGnhNAX6C9F"
      },
      "source": [
        "**Visualisasi Data**"
      ]
    },
    {
      "cell_type": "code",
      "execution_count": 50,
      "metadata": {
        "colab": {
          "base_uri": "https://localhost:8080/",
          "height": 769
        },
        "id": "zSutyGgoIXTG",
        "outputId": "cf1629e5-e316-49c9-85c6-bb22421fa946"
      },
      "outputs": [
        {
          "output_type": "stream",
          "name": "stderr",
          "text": [
            "/usr/local/lib/python3.7/dist-packages/seaborn/_decorators.py:43: FutureWarning: Pass the following variable as a keyword arg: x. From version 0.12, the only valid positional argument will be `data`, and passing other arguments without an explicit keyword will result in an error or misinterpretation.\n",
            "  FutureWarning\n"
          ]
        },
        {
          "output_type": "display_data",
          "data": {
            "image/png": "[encoded data removed]",
            "text/plain": [
              "<Figure size 3024x864 with 1 Axes>"
            ]
          },
          "metadata": {
            "needs_background": "light"
          }
        }
      ],
      "source": [
        "#Univariated analysis sign\n",
        "\n",
        "f = plt.figure(figsize=(42,12))\n",
        "f.add_subplot(1,2,1)\n",
        "sns.countplot(df['sign'])\n",
        "plt.show()"
      ]
    },
    {
      "cell_type": "code",
      "execution_count": 51,
      "metadata": {
        "colab": {
          "base_uri": "https://localhost:8080/",
          "height": 769
        },
        "id": "2sY1rH6E5ceH",
        "outputId": "63612286-6e44-4f05-9177-69d5bc23f7c8"
      },
      "outputs": [
        {
          "output_type": "stream",
          "name": "stderr",
          "text": [
            "/usr/local/lib/python3.7/dist-packages/seaborn/_decorators.py:43: FutureWarning: Pass the following variable as a keyword arg: x. From version 0.12, the only valid positional argument will be `data`, and passing other arguments without an explicit keyword will result in an error or misinterpretation.\n",
            "  FutureWarning\n"
          ]
        },
        {
          "output_type": "display_data",
          "data": {
            "image/png": "[encoded data removed]",
            "text/plain": [
              "<Figure size 1728x864 with 1 Axes>"
            ]
          },
          "metadata": {
            "needs_background": "light"
          }
        }
      ],
      "source": [
        "#Univariated analysis category\n",
        "\n",
        "f = plt.figure(figsize=(24,12))\n",
        "f.add_subplot(1,2,1)\n",
        "sns.countplot(df['category'])\n",
        "plt.show()"
      ]
    },
    {
      "cell_type": "markdown",
      "metadata": {
        "id": "RV9LmFGS6ZDK"
      },
      "source": [
        "**Data Preperation**"
      ]
    },
    {
      "cell_type": "code",
      "source": [
        "#from nltk.corpus import stopwords #comment jika Error dan gunakan 2 sintaks dibawah\n",
        "import nltk\n",
        "nltk.download('stopwords')"
      ],
      "metadata": {
        "id": "lS0Uwfq3nciH",
        "colab": {
          "base_uri": "https://localhost:8080/"
        },
        "outputId": "7f98a357-170d-464d-f5f5-70b8918e1cbd"
      },
      "execution_count": 52,
      "outputs": [
        {
          "output_type": "stream",
          "name": "stdout",
          "text": [
            "[nltk_data] Downloading package stopwords to /root/nltk_data...\n",
            "[nltk_data]   Package stopwords is already up-to-date!\n"
          ]
        },
        {
          "output_type": "execute_result",
          "data": {
            "text/plain": [
              "True"
            ]
          },
          "metadata": {},
          "execution_count": 52
        }
      ]
    },
    {
      "cell_type": "code",
      "source": [
        "from nltk.corpus import stopwords\n",
        "stop = set(stopwords.words('english'))\n",
        "df['horoscope_stopword'] = df['horoscope'].apply(lambda x: ' '.join([word for word in x.split() if word not in (stop)]))\n",
        "\n",
        "df.head()"
      ],
      "metadata": {
        "id": "VTcptRDzkedH",
        "colab": {
          "base_uri": "https://localhost:8080/",
          "height": 206
        },
        "outputId": "32261fef-ca54-4562-cec1-fef61721866c"
      },
      "execution_count": 53,
      "outputs": [
        {
          "output_type": "execute_result",
          "data": {
            "text/html": [
              "<div>\n",
              "<style scoped>\n",
              "    .dataframe tbody tr th:only-of-type {\n",
              "        vertical-align: middle;\n",
              "    }\n",
              "\n",
              "    .dataframe tbody tr th {\n",
              "        vertical-align: top;\n",
              "    }\n",
              "\n",
              "    .dataframe thead th {\n",
              "        text-align: right;\n",
              "    }\n",
              "</style>\n",
              "<table border=\"1\" class=\"dataframe\">\n",
              "  <thead>\n",
              "    <tr style=\"text-align: right;\">\n",
              "      <th></th>\n",
              "      <th>sign</th>\n",
              "      <th>category</th>\n",
              "      <th>date</th>\n",
              "      <th>horoscope</th>\n",
              "      <th>horoscope_stopword</th>\n",
              "    </tr>\n",
              "  </thead>\n",
              "  <tbody>\n",
              "    <tr>\n",
              "      <th>0</th>\n",
              "      <td>aries</td>\n",
              "      <td>general</td>\n",
              "      <td>20200617</td>\n",
              "      <td>There's a great day ahead of you, Aries. You'l...</td>\n",
              "      <td>There's great day ahead you, Aries. You'll ble...</td>\n",
              "    </tr>\n",
              "    <tr>\n",
              "      <th>1</th>\n",
              "      <td>aries</td>\n",
              "      <td>general</td>\n",
              "      <td>20200618</td>\n",
              "      <td>People will understand and appreciate your des...</td>\n",
              "      <td>People understand appreciate desire stand crow...</td>\n",
              "    </tr>\n",
              "    <tr>\n",
              "      <th>2</th>\n",
              "      <td>aries</td>\n",
              "      <td>general</td>\n",
              "      <td>20200619</td>\n",
              "      <td>You are very interested in technological break...</td>\n",
              "      <td>You interested technological breakthroughs inn...</td>\n",
              "    </tr>\n",
              "    <tr>\n",
              "      <th>3</th>\n",
              "      <td>aries</td>\n",
              "      <td>general</td>\n",
              "      <td>20200620</td>\n",
              "      <td>Stress from overwork could have you feeling we...</td>\n",
              "      <td>Stress overwork could feeling weaker usual. Yo...</td>\n",
              "    </tr>\n",
              "    <tr>\n",
              "      <th>4</th>\n",
              "      <td>aries</td>\n",
              "      <td>general</td>\n",
              "      <td>20200621</td>\n",
              "      <td>This is a good day to stand up for yourself an...</td>\n",
              "      <td>This good day stand make known pushover, Aries...</td>\n",
              "    </tr>\n",
              "  </tbody>\n",
              "</table>\n",
              "</div>"
            ],
            "text/plain": [
              "    sign  ...                                 horoscope_stopword\n",
              "0  aries  ...  There's great day ahead you, Aries. You'll ble...\n",
              "1  aries  ...  People understand appreciate desire stand crow...\n",
              "2  aries  ...  You interested technological breakthroughs inn...\n",
              "3  aries  ...  Stress overwork could feeling weaker usual. Yo...\n",
              "4  aries  ...  This good day stand make known pushover, Aries...\n",
              "\n",
              "[5 rows x 5 columns]"
            ]
          },
          "metadata": {},
          "execution_count": 53
        }
      ]
    },
    {
      "cell_type": "code",
      "execution_count": 54,
      "metadata": {
        "id": "Vs5dX_W_icHE",
        "colab": {
          "base_uri": "https://localhost:8080/",
          "height": 424
        },
        "outputId": "e0b409a2-e585-4601-9efa-610170a57057"
      },
      "outputs": [
        {
          "output_type": "execute_result",
          "data": {
            "text/html": [
              "<div>\n",
              "<style scoped>\n",
              "    .dataframe tbody tr th:only-of-type {\n",
              "        vertical-align: middle;\n",
              "    }\n",
              "\n",
              "    .dataframe tbody tr th {\n",
              "        vertical-align: top;\n",
              "    }\n",
              "\n",
              "    .dataframe thead th {\n",
              "        text-align: right;\n",
              "    }\n",
              "</style>\n",
              "<table border=\"1\" class=\"dataframe\">\n",
              "  <thead>\n",
              "    <tr style=\"text-align: right;\">\n",
              "      <th></th>\n",
              "      <th>sign</th>\n",
              "      <th>category</th>\n",
              "      <th>date</th>\n",
              "      <th>horoscope</th>\n",
              "      <th>horoscope_stopword</th>\n",
              "    </tr>\n",
              "  </thead>\n",
              "  <tbody>\n",
              "    <tr>\n",
              "      <th>0</th>\n",
              "      <td>1</td>\n",
              "      <td>2</td>\n",
              "      <td>20200617</td>\n",
              "      <td>There's a great day ahead of you, Aries. You'l...</td>\n",
              "      <td>There's great day ahead you, Aries. You'll ble...</td>\n",
              "    </tr>\n",
              "    <tr>\n",
              "      <th>1</th>\n",
              "      <td>1</td>\n",
              "      <td>2</td>\n",
              "      <td>20200618</td>\n",
              "      <td>People will understand and appreciate your des...</td>\n",
              "      <td>People understand appreciate desire stand crow...</td>\n",
              "    </tr>\n",
              "    <tr>\n",
              "      <th>2</th>\n",
              "      <td>1</td>\n",
              "      <td>2</td>\n",
              "      <td>20200619</td>\n",
              "      <td>You are very interested in technological break...</td>\n",
              "      <td>You interested technological breakthroughs inn...</td>\n",
              "    </tr>\n",
              "    <tr>\n",
              "      <th>3</th>\n",
              "      <td>1</td>\n",
              "      <td>2</td>\n",
              "      <td>20200620</td>\n",
              "      <td>Stress from overwork could have you feeling we...</td>\n",
              "      <td>Stress overwork could feeling weaker usual. Yo...</td>\n",
              "    </tr>\n",
              "    <tr>\n",
              "      <th>4</th>\n",
              "      <td>1</td>\n",
              "      <td>2</td>\n",
              "      <td>20200621</td>\n",
              "      <td>This is a good day to stand up for yourself an...</td>\n",
              "      <td>This good day stand make known pushover, Aries...</td>\n",
              "    </tr>\n",
              "    <tr>\n",
              "      <th>...</th>\n",
              "      <td>...</td>\n",
              "      <td>...</td>\n",
              "      <td>...</td>\n",
              "      <td>...</td>\n",
              "      <td>...</td>\n",
              "    </tr>\n",
              "    <tr>\n",
              "      <th>21954</th>\n",
              "      <td>7</td>\n",
              "      <td>0</td>\n",
              "      <td>20210612</td>\n",
              "      <td>Celebrate in style on your birthday in prepara...</td>\n",
              "      <td>Celebrate style birthday preparation great thi...</td>\n",
              "    </tr>\n",
              "    <tr>\n",
              "      <th>21955</th>\n",
              "      <td>7</td>\n",
              "      <td>0</td>\n",
              "      <td>20210613</td>\n",
              "      <td>Imagine your life as if it was exactly the way...</td>\n",
              "      <td>Imagine life exactly way wanted it. This birth...</td>\n",
              "    </tr>\n",
              "    <tr>\n",
              "      <th>21956</th>\n",
              "      <td>7</td>\n",
              "      <td>0</td>\n",
              "      <td>20210614</td>\n",
              "      <td>Fun, playfulness, and humor are easy to manife...</td>\n",
              "      <td>Fun, playfulness, humor easy manifest year bir...</td>\n",
              "    </tr>\n",
              "    <tr>\n",
              "      <th>21957</th>\n",
              "      <td>7</td>\n",
              "      <td>0</td>\n",
              "      <td>20210615</td>\n",
              "      <td>Your birthday brings you a fresh start, as you...</td>\n",
              "      <td>Your birthday brings fresh start, clear away c...</td>\n",
              "    </tr>\n",
              "    <tr>\n",
              "      <th>21958</th>\n",
              "      <td>7</td>\n",
              "      <td>0</td>\n",
              "      <td>20210616</td>\n",
              "      <td>You will probably enjoy being the center of at...</td>\n",
              "      <td>You probably enjoy center attention birthday, ...</td>\n",
              "    </tr>\n",
              "  </tbody>\n",
              "</table>\n",
              "<p>21959 rows × 5 columns</p>\n",
              "</div>"
            ],
            "text/plain": [
              "       sign  ...                                 horoscope_stopword\n",
              "0         1  ...  There's great day ahead you, Aries. You'll ble...\n",
              "1         1  ...  People understand appreciate desire stand crow...\n",
              "2         1  ...  You interested technological breakthroughs inn...\n",
              "3         1  ...  Stress overwork could feeling weaker usual. Yo...\n",
              "4         1  ...  This good day stand make known pushover, Aries...\n",
              "...     ...  ...                                                ...\n",
              "21954     7  ...  Celebrate style birthday preparation great thi...\n",
              "21955     7  ...  Imagine life exactly way wanted it. This birth...\n",
              "21956     7  ...  Fun, playfulness, humor easy manifest year bir...\n",
              "21957     7  ...  Your birthday brings fresh start, clear away c...\n",
              "21958     7  ...  You probably enjoy center attention birthday, ...\n",
              "\n",
              "[21959 rows x 5 columns]"
            ]
          },
          "metadata": {},
          "execution_count": 54
        }
      ],
      "source": [
        "#label encoding\n",
        "\n",
        "# Import label encoder \n",
        "from sklearn import preprocessing\n",
        "label_encoder = preprocessing.LabelEncoder() \n",
        "df['sign']= label_encoder.fit_transform(df['sign']) \n",
        "df['category']= label_encoder.fit_transform(df['category'])\n",
        "\n",
        "df"
      ]
    },
    {
      "cell_type": "code",
      "source": [
        "#one-hot-encoding\n",
        "\n",
        "#sign = pd.get_dummies(df.sign)\n",
        "#category = pd.get_dummies(df.category)\n",
        "#new_df = pd.concat([df, sign, category], axis=1) #, category\n",
        "#new_df = new_df.drop(columns='sign')\n",
        "#new_df = new_df.drop(columns='category')\n",
        "#new_df"
      ],
      "metadata": {
        "id": "wdWh_sGuYmm5"
      },
      "execution_count": 55,
      "outputs": []
    },
    {
      "cell_type": "code",
      "execution_count": 56,
      "metadata": {
        "id": "iLpJuYeH4RES"
      },
      "outputs": [],
      "source": [
        "horo = new_df['horoscope_stopword'].values\n",
        "#labels = new_df[['date', 'aquarius', 'aries', 'cancer', 'capricorn', 'gemini', 'leo', 'libra', 'pisces', 'sagittarius', 'scorpio', 'taurus', 'virgo', 'birthday', 'career', 'general', 'love', 'wellness']].values #, 'birthday', 'career', 'general', 'love', 'wellness'\n",
        "labels = df[['sign', 'category']]"
      ]
    },
    {
      "cell_type": "code",
      "execution_count": 57,
      "metadata": {
        "id": "ecqrivmn4x8R"
      },
      "outputs": [],
      "source": [
        "#memisahkan data training dan validasi (data validasi hanya terdiri 20% dari total dataset)\n",
        "horo_latih, horo_test, labels_latih, labels_test = train_test_split(horo, labels, test_size=0.2)"
      ]
    },
    {
      "cell_type": "code",
      "execution_count": 58,
      "metadata": {
        "id": "OxWXNiHndrqO"
      },
      "outputs": [],
      "source": [
        "#fungsi tokenizer\n",
        "filt = '!\"#$%&()*+.,-/:;=?@[\\]^_`{|}~ '\n",
        "\n",
        "tokenizer = Tokenizer(num_words=5000, oov_token='<OOV>', filters = filt)\n",
        "tokenizer.fit_on_texts(horo_latih)\n",
        "tokenizer.fit_on_texts(horo_test)\n",
        " \n",
        "sekuens_latih = tokenizer.texts_to_sequences(horo_latih)\n",
        "sekuens_test = tokenizer.texts_to_sequences(horo_test)\n",
        " \n",
        "padded_latih = pad_sequences(sekuens_latih) \n",
        "padded_test = pad_sequences(sekuens_test)"
      ]
    },
    {
      "cell_type": "markdown",
      "metadata": {
        "id": "xG-fr7OF34LL"
      },
      "source": [
        "**Modeling**"
      ]
    },
    {
      "cell_type": "code",
      "execution_count": 59,
      "metadata": {
        "id": "9CMvymDjCafA"
      },
      "outputs": [],
      "source": [
        "#implementasi callback\n",
        "\n",
        "class myCallback(tf.keras.callbacks.Callback):\n",
        "  def on_epoch_end(self, epoch, logs={}):\n",
        "    if(logs.get('accuracy')>0.9 and \n",
        "       logs.get('val_accuracy')>0.9):\n",
        "      print(\"\\nAkurasi telah mencapai >90%!\")\n",
        "      self.model.stop_training = True\n",
        "callbacks = myCallback()"
      ]
    },
    {
      "cell_type": "code",
      "execution_count": 63,
      "metadata": {
        "id": "6gpWnCgW4CAb",
        "colab": {
          "base_uri": "https://localhost:8080/"
        },
        "outputId": "061b0728-6ee2-4f77-8d8a-6e911256cfc8"
      },
      "outputs": [
        {
          "output_type": "stream",
          "name": "stdout",
          "text": [
            "Model: \"sequential_5\"\n",
            "_________________________________________________________________\n",
            " Layer (type)                Output Shape              Param #   \n",
            "=================================================================\n",
            " embedding_5 (Embedding)     (None, None, 32)          480000    \n",
            "                                                                 \n",
            " lstm_5 (LSTM)               (None, 128)               82432     \n",
            "                                                                 \n",
            " dense_15 (Dense)            (None, 128)               16512     \n",
            "                                                                 \n",
            " dense_16 (Dense)            (None, 64)                8256      \n",
            "                                                                 \n",
            " dense_17 (Dense)            (None, 2)                 130       \n",
            "                                                                 \n",
            "=================================================================\n",
            "Total params: 587,330\n",
            "Trainable params: 587,330\n",
            "Non-trainable params: 0\n",
            "_________________________________________________________________\n"
          ]
        }
      ],
      "source": [
        "#Arsitektur model machine learning dengan menggunakan embedding dan LSTM\n",
        "model = tf.keras.Sequential([\n",
        "    tf.keras.layers.Embedding(input_dim=15000, output_dim=32),\n",
        "    tf.keras.layers.LSTM(128),\n",
        "    tf.keras.layers.Dense(128, activation='relu'),\n",
        "    tf.keras.layers.Dense(64, activation='relu'),\n",
        "    tf.keras.layers.Dense(2, activation='softmax')\n",
        "])\n",
        "model.summary()"
      ]
    },
    {
      "cell_type": "code",
      "execution_count": 64,
      "metadata": {
        "id": "qVz7ztuTd28D"
      },
      "outputs": [],
      "source": [
        "#compiler\n",
        "model.compile(loss='categorical_crossentropy',optimizer='adam',metrics=['accuracy'])"
      ]
    },
    {
      "cell_type": "code",
      "execution_count": 65,
      "metadata": {
        "colab": {
          "base_uri": "https://localhost:8080/"
        },
        "id": "AsVpCc9ECXf2",
        "outputId": "7a82107d-0fd1-44d5-c282-3dcfe87384c1"
      },
      "outputs": [
        {
          "output_type": "stream",
          "name": "stdout",
          "text": [
            "Epoch 1/20\n",
            "549/549 - 113s - loss: 17411.1973 - accuracy: 0.8314 - val_loss: 54435.5469 - val_accuracy: 0.8402 - 113s/epoch - 207ms/step\n",
            "Epoch 2/20\n",
            "549/549 - 58s - loss: 130502.5703 - accuracy: 0.8317 - val_loss: 225521.0625 - val_accuracy: 0.8402 - 58s/epoch - 107ms/step\n",
            "Epoch 3/20\n",
            "549/549 - 56s - loss: 339348.2500 - accuracy: 0.8317 - val_loss: 475443.2188 - val_accuracy: 0.8402 - 56s/epoch - 102ms/step\n",
            "Epoch 4/20\n",
            "549/549 - 57s - loss: 633219.2500 - accuracy: 0.8317 - val_loss: 770242.3125 - val_accuracy: 0.8402 - 57s/epoch - 103ms/step\n",
            "Epoch 5/20\n",
            "549/549 - 57s - loss: 969664.2500 - accuracy: 0.8317 - val_loss: 1114884.3750 - val_accuracy: 0.8402 - 57s/epoch - 104ms/step\n",
            "Epoch 6/20\n",
            "549/549 - 59s - loss: 1336125.0000 - accuracy: 0.8317 - val_loss: 1522713.0000 - val_accuracy: 0.8402 - 59s/epoch - 107ms/step\n",
            "Epoch 7/20\n",
            "549/549 - 59s - loss: 1795718.5000 - accuracy: 0.8317 - val_loss: 1940449.8750 - val_accuracy: 0.8402 - 59s/epoch - 107ms/step\n",
            "Epoch 8/20\n",
            "549/549 - 57s - loss: 2209408.5000 - accuracy: 0.8317 - val_loss: 2419080.7500 - val_accuracy: 0.8402 - 57s/epoch - 104ms/step\n",
            "Epoch 9/20\n",
            "549/549 - 57s - loss: 2658327.0000 - accuracy: 0.8317 - val_loss: 2957671.2500 - val_accuracy: 0.8402 - 57s/epoch - 104ms/step\n",
            "Epoch 10/20\n",
            "549/549 - 57s - loss: 3252127.7500 - accuracy: 0.8317 - val_loss: 3430477.5000 - val_accuracy: 0.8402 - 57s/epoch - 104ms/step\n",
            "Epoch 11/20\n",
            "549/549 - 58s - loss: 3756303.7500 - accuracy: 0.8317 - val_loss: 3995246.5000 - val_accuracy: 0.8402 - 58s/epoch - 106ms/step\n",
            "Epoch 12/20\n",
            "549/549 - 57s - loss: 4355793.5000 - accuracy: 0.8317 - val_loss: 4521587.0000 - val_accuracy: 0.8402 - 57s/epoch - 104ms/step\n",
            "Epoch 13/20\n",
            "549/549 - 58s - loss: 4886936.5000 - accuracy: 0.8317 - val_loss: 5098766.5000 - val_accuracy: 0.8402 - 58s/epoch - 105ms/step\n",
            "Epoch 14/20\n",
            "549/549 - 58s - loss: 5507146.5000 - accuracy: 0.8317 - val_loss: 5766867.5000 - val_accuracy: 0.8402 - 58s/epoch - 105ms/step\n",
            "Epoch 15/20\n",
            "549/549 - 58s - loss: 6116823.5000 - accuracy: 0.8317 - val_loss: 6330368.5000 - val_accuracy: 0.8402 - 58s/epoch - 105ms/step\n",
            "Epoch 16/20\n",
            "549/549 - 56s - loss: 6862385.5000 - accuracy: 0.8317 - val_loss: 6965161.0000 - val_accuracy: 0.8402 - 56s/epoch - 102ms/step\n",
            "Epoch 17/20\n",
            "549/549 - 56s - loss: 7304941.5000 - accuracy: 0.8317 - val_loss: 7669618.0000 - val_accuracy: 0.8402 - 56s/epoch - 103ms/step\n",
            "Epoch 18/20\n",
            "549/549 - 56s - loss: 7871243.0000 - accuracy: 0.8317 - val_loss: 8327199.5000 - val_accuracy: 0.8402 - 56s/epoch - 103ms/step\n",
            "Epoch 19/20\n",
            "549/549 - 59s - loss: 9036005.0000 - accuracy: 0.8317 - val_loss: 8775478.0000 - val_accuracy: 0.8402 - 59s/epoch - 107ms/step\n",
            "Epoch 20/20\n",
            "549/549 - 64s - loss: 9398954.0000 - accuracy: 0.8317 - val_loss: 9475102.0000 - val_accuracy: 0.8402 - 64s/epoch - 117ms/step\n"
          ]
        }
      ],
      "source": [
        "num_epochs = 20\n",
        "history = model.fit(padded_latih, labels_latih, epochs=num_epochs, \n",
        "                    validation_data=(padded_test, labels_test), verbose=2, callbacks=[callbacks])"
      ]
    }
  ],
  "metadata": {
    "colab": {
      "name": "MachineLearning.ipynb",
      "provenance": [],
      "collapsed_sections": []
    },
    "kernelspec": {
      "display_name": "Python 3",
      "name": "python3"
    },
    "language_info": {
      "name": "python"
    }
  },
  "nbformat": 4,
  "nbformat_minor": 0
}