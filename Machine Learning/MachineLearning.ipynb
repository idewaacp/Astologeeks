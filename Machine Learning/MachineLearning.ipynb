{
  "cells": [
    {
      "cell_type": "code",
      "execution_count": null,
      "metadata": {
        "id": "q9bmnkkZvELm"
      },
      "outputs": [],
      "source": [
        "import numpy as np\n",
        "import pandas as pd\n",
        "import matplotlib.pyplot as plt\n",
        "import seaborn as sns\n",
        "import tensorflow as tf\n",
        "from sklearn.model_selection import train_test_split\n",
        "from tensorflow.keras.preprocessing.text import Tokenizer\n",
        "from tensorflow.keras.preprocessing.sequence import pad_sequences\n",
        "\n",
        "from datetime import datetime\n",
        "from dateutil.relativedelta import relativedelta"
      ]
    },
    {
      "cell_type": "code",
      "execution_count": null,
      "metadata": {
        "colab": {
          "base_uri": "https://localhost:8080/",
          "height": 424
        },
        "id": "SXX_BXSCv4Br",
        "outputId": "1b8c0ad9-0be2-4f5a-929f-22bf0f3d3e94"
      },
      "outputs": [
        {
          "output_type": "execute_result",
          "data": {
            "text/html": [
              "<div>\n",
              "<style scoped>\n",
              "    .dataframe tbody tr th:only-of-type {\n",
              "        vertical-align: middle;\n",
              "    }\n",
              "\n",
              "    .dataframe tbody tr th {\n",
              "        vertical-align: top;\n",
              "    }\n",
              "\n",
              "    .dataframe thead th {\n",
              "        text-align: right;\n",
              "    }\n",
              "</style>\n",
              "<table border=\"1\" class=\"dataframe\">\n",
              "  <thead>\n",
              "    <tr style=\"text-align: right;\">\n",
              "      <th></th>\n",
              "      <th>sign</th>\n",
              "      <th>category</th>\n",
              "      <th>horoscope</th>\n",
              "    </tr>\n",
              "  </thead>\n",
              "  <tbody>\n",
              "    <tr>\n",
              "      <th>0</th>\n",
              "      <td>aries</td>\n",
              "      <td>general</td>\n",
              "      <td>There's a great day ahead of you, Aries. You'l...</td>\n",
              "    </tr>\n",
              "    <tr>\n",
              "      <th>1</th>\n",
              "      <td>aries</td>\n",
              "      <td>general</td>\n",
              "      <td>People will understand and appreciate your des...</td>\n",
              "    </tr>\n",
              "    <tr>\n",
              "      <th>2</th>\n",
              "      <td>aries</td>\n",
              "      <td>general</td>\n",
              "      <td>You are very interested in technological break...</td>\n",
              "    </tr>\n",
              "    <tr>\n",
              "      <th>3</th>\n",
              "      <td>aries</td>\n",
              "      <td>general</td>\n",
              "      <td>Stress from overwork could have you feeling we...</td>\n",
              "    </tr>\n",
              "    <tr>\n",
              "      <th>4</th>\n",
              "      <td>aries</td>\n",
              "      <td>general</td>\n",
              "      <td>This is a good day to stand up for yourself an...</td>\n",
              "    </tr>\n",
              "    <tr>\n",
              "      <th>...</th>\n",
              "      <td>...</td>\n",
              "      <td>...</td>\n",
              "      <td>...</td>\n",
              "    </tr>\n",
              "    <tr>\n",
              "      <th>21954</th>\n",
              "      <td>pisces</td>\n",
              "      <td>birthday</td>\n",
              "      <td>Celebrate in style on your birthday in prepara...</td>\n",
              "    </tr>\n",
              "    <tr>\n",
              "      <th>21955</th>\n",
              "      <td>pisces</td>\n",
              "      <td>birthday</td>\n",
              "      <td>Imagine your life as if it was exactly the way...</td>\n",
              "    </tr>\n",
              "    <tr>\n",
              "      <th>21956</th>\n",
              "      <td>pisces</td>\n",
              "      <td>birthday</td>\n",
              "      <td>Fun, playfulness, and humor are easy to manife...</td>\n",
              "    </tr>\n",
              "    <tr>\n",
              "      <th>21957</th>\n",
              "      <td>pisces</td>\n",
              "      <td>birthday</td>\n",
              "      <td>Your birthday brings you a fresh start, as you...</td>\n",
              "    </tr>\n",
              "    <tr>\n",
              "      <th>21958</th>\n",
              "      <td>pisces</td>\n",
              "      <td>birthday</td>\n",
              "      <td>You will probably enjoy being the center of at...</td>\n",
              "    </tr>\n",
              "  </tbody>\n",
              "</table>\n",
              "<p>21959 rows × 3 columns</p>\n",
              "</div>"
            ],
            "text/plain": [
              "         sign  category                                          horoscope\n",
              "0       aries   general  There's a great day ahead of you, Aries. You'l...\n",
              "1       aries   general  People will understand and appreciate your des...\n",
              "2       aries   general  You are very interested in technological break...\n",
              "3       aries   general  Stress from overwork could have you feeling we...\n",
              "4       aries   general  This is a good day to stand up for yourself an...\n",
              "...       ...       ...                                                ...\n",
              "21954  pisces  birthday  Celebrate in style on your birthday in prepara...\n",
              "21955  pisces  birthday  Imagine your life as if it was exactly the way...\n",
              "21956  pisces  birthday  Fun, playfulness, and humor are easy to manife...\n",
              "21957  pisces  birthday  Your birthday brings you a fresh start, as you...\n",
              "21958  pisces  birthday  You will probably enjoy being the center of at...\n",
              "\n",
              "[21959 rows x 3 columns]"
            ]
          },
          "metadata": {},
          "execution_count": 2
        }
      ],
      "source": [
        "df = pd.read_csv('horoscope_saved.csv')\n",
        "df = df.drop(columns='date')\n",
        "#df['date'] = pd.to_datetime(df['date'], format='%Y%m%d')\n",
        "df"
      ]
    },
    {
      "cell_type": "code",
      "execution_count": null,
      "metadata": {
        "id": "ZvuRPu2NlULY"
      },
      "outputs": [],
      "source": [
        "#df['date'] = df['date'].dt.date\n",
        "#df"
      ]
    },
    {
      "cell_type": "code",
      "execution_count": null,
      "metadata": {
        "colab": {
          "base_uri": "https://localhost:8080/"
        },
        "id": "vZ7AaeOZHUqy",
        "outputId": "ff57ee3e-9d45-4e74-c3d1-29bb2610dbe3"
      },
      "outputs": [
        {
          "output_type": "stream",
          "name": "stdout",
          "text": [
            "<class 'pandas.core.frame.DataFrame'>\n",
            "RangeIndex: 21959 entries, 0 to 21958\n",
            "Data columns (total 3 columns):\n",
            " #   Column     Non-Null Count  Dtype \n",
            "---  ------     --------------  ----- \n",
            " 0   sign       21959 non-null  object\n",
            " 1   category   21959 non-null  object\n",
            " 2   horoscope  21959 non-null  object\n",
            "dtypes: object(3)\n",
            "memory usage: 514.8+ KB\n"
          ]
        }
      ],
      "source": [
        "df.info()"
      ]
    },
    {
      "cell_type": "code",
      "execution_count": null,
      "metadata": {
        "colab": {
          "base_uri": "https://localhost:8080/",
          "height": 174
        },
        "id": "QI9N6Kyp1HuB",
        "outputId": "4b75ad7e-aee8-4c1d-f58c-13d49ca71a41"
      },
      "outputs": [
        {
          "output_type": "execute_result",
          "data": {
            "text/html": [
              "<div>\n",
              "<style scoped>\n",
              "    .dataframe tbody tr th:only-of-type {\n",
              "        vertical-align: middle;\n",
              "    }\n",
              "\n",
              "    .dataframe tbody tr th {\n",
              "        vertical-align: top;\n",
              "    }\n",
              "\n",
              "    .dataframe thead th {\n",
              "        text-align: right;\n",
              "    }\n",
              "</style>\n",
              "<table border=\"1\" class=\"dataframe\">\n",
              "  <thead>\n",
              "    <tr style=\"text-align: right;\">\n",
              "      <th></th>\n",
              "      <th>sign</th>\n",
              "      <th>category</th>\n",
              "      <th>horoscope</th>\n",
              "    </tr>\n",
              "  </thead>\n",
              "  <tbody>\n",
              "    <tr>\n",
              "      <th>count</th>\n",
              "      <td>21959</td>\n",
              "      <td>21959</td>\n",
              "      <td>21959</td>\n",
              "    </tr>\n",
              "    <tr>\n",
              "      <th>unique</th>\n",
              "      <td>12</td>\n",
              "      <td>5</td>\n",
              "      <td>12050</td>\n",
              "    </tr>\n",
              "    <tr>\n",
              "      <th>top</th>\n",
              "      <td>pisces</td>\n",
              "      <td>love</td>\n",
              "      <td>Be your most charming and persuasive this year...</td>\n",
              "    </tr>\n",
              "    <tr>\n",
              "      <th>freq</th>\n",
              "      <td>1830</td>\n",
              "      <td>4392</td>\n",
              "      <td>12</td>\n",
              "    </tr>\n",
              "  </tbody>\n",
              "</table>\n",
              "</div>"
            ],
            "text/plain": [
              "          sign category                                          horoscope\n",
              "count    21959    21959                                              21959\n",
              "unique      12        5                                              12050\n",
              "top     pisces     love  Be your most charming and persuasive this year...\n",
              "freq      1830     4392                                                 12"
            ]
          },
          "metadata": {},
          "execution_count": 4
        }
      ],
      "source": [
        "df.describe(include = 'all')"
      ]
    },
    {
      "cell_type": "code",
      "execution_count": null,
      "metadata": {
        "colab": {
          "base_uri": "https://localhost:8080/"
        },
        "id": "r55q5PrU2QuU",
        "outputId": "159decff-1afa-43d1-c746-6845050a6fc8"
      },
      "outputs": [
        {
          "output_type": "execute_result",
          "data": {
            "text/plain": [
              "sign         0\n",
              "category     0\n",
              "horoscope    0\n",
              "dtype: int64"
            ]
          },
          "metadata": {},
          "execution_count": 5
        }
      ],
      "source": [
        "df.isnull().sum()"
      ]
    },
    {
      "cell_type": "code",
      "execution_count": null,
      "metadata": {
        "colab": {
          "base_uri": "https://localhost:8080/"
        },
        "id": "IwFgDmal5mQ2",
        "outputId": "29a0a3ab-8e9b-41fc-c1a8-a53f57589a09"
      },
      "outputs": [
        {
          "output_type": "execute_result",
          "data": {
            "text/plain": [
              "(21959, 3)"
            ]
          },
          "metadata": {},
          "execution_count": 6
        }
      ],
      "source": [
        "df.shape"
      ]
    },
    {
      "cell_type": "markdown",
      "metadata": {
        "id": "GCGnhNAX6C9F"
      },
      "source": [
        "**Visualisasi Data**"
      ]
    },
    {
      "cell_type": "code",
      "execution_count": null,
      "metadata": {
        "colab": {
          "base_uri": "https://localhost:8080/",
          "height": 769
        },
        "id": "zSutyGgoIXTG",
        "outputId": "c2b2aee4-3d0f-4a3c-f032-bcac367c77e8"
      },
      "outputs": [
        {
          "output_type": "stream",
          "name": "stderr",
          "text": [
            "/usr/local/lib/python3.7/dist-packages/seaborn/_decorators.py:43: FutureWarning: Pass the following variable as a keyword arg: x. From version 0.12, the only valid positional argument will be `data`, and passing other arguments without an explicit keyword will result in an error or misinterpretation.\n",
            "  FutureWarning\n"
          ]
        },
        {
          "output_type": "display_data",
          "data": {
            "image/png": "[encoded data removed]",
            "text/plain": [
              "<Figure size 3024x864 with 1 Axes>"
            ]
          },
          "metadata": {
            "needs_background": "light"
          }
        }
      ],
      "source": [
        "#Univariated analysis sign\n",
        "\n",
        "f = plt.figure(figsize=(42,12))\n",
        "f.add_subplot(1,2,1)\n",
        "sns.countplot(df['sign'])\n",
        "plt.show()"
      ]
    },
    {
      "cell_type": "code",
      "execution_count": null,
      "metadata": {
        "colab": {
          "base_uri": "https://localhost:8080/",
          "height": 769
        },
        "id": "2sY1rH6E5ceH",
        "outputId": "63612286-6e44-4f05-9177-69d5bc23f7c8"
      },
      "outputs": [
        {
          "output_type": "stream",
          "name": "stderr",
          "text": [
            "/usr/local/lib/python3.7/dist-packages/seaborn/_decorators.py:43: FutureWarning: Pass the following variable as a keyword arg: x. From version 0.12, the only valid positional argument will be `data`, and passing other arguments without an explicit keyword will result in an error or misinterpretation.\n",
            "  FutureWarning\n"
          ]
        },
        {
          "output_type": "display_data",
          "data": {
            "image/png": "[encoded data removed]",
            "text/plain": [
              "<Figure size 1728x864 with 1 Axes>"
            ]
          },
          "metadata": {
            "needs_background": "light"
          }
        }
      ],
      "source": [
        "#Univariated analysis category\n",
        "\n",
        "f = plt.figure(figsize=(24,12))\n",
        "f.add_subplot(1,2,1)\n",
        "sns.countplot(df['category'])\n",
        "plt.show()"
      ]
    },
    {
      "cell_type": "markdown",
      "metadata": {
        "id": "RV9LmFGS6ZDK"
      },
      "source": [
        "**Data Preperation**"
      ]
    },
    {
      "cell_type": "code",
      "source": [
        "# convert to lowercase\n",
        "df['horoscope'] = df['horoscope'].str.lower()"
      ],
      "metadata": {
        "id": "Wo6L2UiFQKIn"
      },
      "execution_count": null,
      "outputs": []
    },
    {
      "cell_type": "code",
      "source": [
        "#from nltk.corpus import stopwords #comment jika Error dan gunakan 2 sintaks dibawah\n",
        "import nltk\n",
        "nltk.download('stopwords')"
      ],
      "metadata": {
        "id": "lS0Uwfq3nciH",
        "colab": {
          "base_uri": "https://localhost:8080/"
        },
        "outputId": "43638409-0c2e-44ba-f594-dad461e05861"
      },
      "execution_count": null,
      "outputs": [
        {
          "output_type": "stream",
          "name": "stdout",
          "text": [
            "[nltk_data] Downloading package stopwords to /root/nltk_data...\n",
            "[nltk_data]   Unzipping corpora/stopwords.zip.\n"
          ]
        },
        {
          "output_type": "execute_result",
          "data": {
            "text/plain": [
              "True"
            ]
          },
          "metadata": {},
          "execution_count": 6
        }
      ]
    },
    {
      "cell_type": "code",
      "source": [
        "from nltk.corpus import stopwords\n",
        "stop = set(stopwords.words('english'))\n",
        "df['horoscope_stopword'] = df['horoscope'].apply(lambda x: ' '.join([word for word in x.split() if word not in (stop)]))\n",
        "\n",
        "df.head()"
      ],
      "metadata": {
        "id": "VTcptRDzkedH",
        "colab": {
          "base_uri": "https://localhost:8080/",
          "height": 206
        },
        "outputId": "ad6b92f9-f633-40ff-ba58-aef367eb6889"
      },
      "execution_count": null,
      "outputs": [
        {
          "output_type": "execute_result",
          "data": {
            "text/html": [
              "<div>\n",
              "<style scoped>\n",
              "    .dataframe tbody tr th:only-of-type {\n",
              "        vertical-align: middle;\n",
              "    }\n",
              "\n",
              "    .dataframe tbody tr th {\n",
              "        vertical-align: top;\n",
              "    }\n",
              "\n",
              "    .dataframe thead th {\n",
              "        text-align: right;\n",
              "    }\n",
              "</style>\n",
              "<table border=\"1\" class=\"dataframe\">\n",
              "  <thead>\n",
              "    <tr style=\"text-align: right;\">\n",
              "      <th></th>\n",
              "      <th>sign</th>\n",
              "      <th>category</th>\n",
              "      <th>horoscope</th>\n",
              "      <th>horoscope_stopword</th>\n",
              "    </tr>\n",
              "  </thead>\n",
              "  <tbody>\n",
              "    <tr>\n",
              "      <th>0</th>\n",
              "      <td>aries</td>\n",
              "      <td>general</td>\n",
              "      <td>there's a great day ahead of you, aries. you'l...</td>\n",
              "      <td>there's great day ahead you, aries. blessed ab...</td>\n",
              "    </tr>\n",
              "    <tr>\n",
              "      <th>1</th>\n",
              "      <td>aries</td>\n",
              "      <td>general</td>\n",
              "      <td>people will understand and appreciate your des...</td>\n",
              "      <td>people understand appreciate desire stand crow...</td>\n",
              "    </tr>\n",
              "    <tr>\n",
              "      <th>2</th>\n",
              "      <td>aries</td>\n",
              "      <td>general</td>\n",
              "      <td>you are very interested in technological break...</td>\n",
              "      <td>interested technological breakthroughs innovat...</td>\n",
              "    </tr>\n",
              "    <tr>\n",
              "      <th>3</th>\n",
              "      <td>aries</td>\n",
              "      <td>general</td>\n",
              "      <td>stress from overwork could have you feeling we...</td>\n",
              "      <td>stress overwork could feeling weaker usual. mi...</td>\n",
              "    </tr>\n",
              "    <tr>\n",
              "      <th>4</th>\n",
              "      <td>aries</td>\n",
              "      <td>general</td>\n",
              "      <td>this is a good day to stand up for yourself an...</td>\n",
              "      <td>good day stand make known pushover, aries. use...</td>\n",
              "    </tr>\n",
              "  </tbody>\n",
              "</table>\n",
              "</div>"
            ],
            "text/plain": [
              "    sign  ...                                 horoscope_stopword\n",
              "0  aries  ...  there's great day ahead you, aries. blessed ab...\n",
              "1  aries  ...  people understand appreciate desire stand crow...\n",
              "2  aries  ...  interested technological breakthroughs innovat...\n",
              "3  aries  ...  stress overwork could feeling weaker usual. mi...\n",
              "4  aries  ...  good day stand make known pushover, aries. use...\n",
              "\n",
              "[5 rows x 4 columns]"
            ]
          },
          "metadata": {},
          "execution_count": 7
        }
      ]
    },
    {
      "cell_type": "code",
      "execution_count": null,
      "metadata": {
        "id": "Vs5dX_W_icHE",
        "colab": {
          "base_uri": "https://localhost:8080/",
          "height": 424
        },
        "outputId": "5d26e3db-7694-4c86-c950-df665d450676"
      },
      "outputs": [
        {
          "output_type": "execute_result",
          "data": {
            "text/html": [
              "<div>\n",
              "<style scoped>\n",
              "    .dataframe tbody tr th:only-of-type {\n",
              "        vertical-align: middle;\n",
              "    }\n",
              "\n",
              "    .dataframe tbody tr th {\n",
              "        vertical-align: top;\n",
              "    }\n",
              "\n",
              "    .dataframe thead th {\n",
              "        text-align: right;\n",
              "    }\n",
              "</style>\n",
              "<table border=\"1\" class=\"dataframe\">\n",
              "  <thead>\n",
              "    <tr style=\"text-align: right;\">\n",
              "      <th></th>\n",
              "      <th>sign</th>\n",
              "      <th>category</th>\n",
              "      <th>horoscope</th>\n",
              "      <th>horoscope_stopword</th>\n",
              "    </tr>\n",
              "  </thead>\n",
              "  <tbody>\n",
              "    <tr>\n",
              "      <th>0</th>\n",
              "      <td>1</td>\n",
              "      <td>2</td>\n",
              "      <td>there's a great day ahead of you, aries. you'l...</td>\n",
              "      <td>there's great day ahead you, aries. blessed ab...</td>\n",
              "    </tr>\n",
              "    <tr>\n",
              "      <th>1</th>\n",
              "      <td>1</td>\n",
              "      <td>2</td>\n",
              "      <td>people will understand and appreciate your des...</td>\n",
              "      <td>people understand appreciate desire stand crow...</td>\n",
              "    </tr>\n",
              "    <tr>\n",
              "      <th>2</th>\n",
              "      <td>1</td>\n",
              "      <td>2</td>\n",
              "      <td>you are very interested in technological break...</td>\n",
              "      <td>interested technological breakthroughs innovat...</td>\n",
              "    </tr>\n",
              "    <tr>\n",
              "      <th>3</th>\n",
              "      <td>1</td>\n",
              "      <td>2</td>\n",
              "      <td>stress from overwork could have you feeling we...</td>\n",
              "      <td>stress overwork could feeling weaker usual. mi...</td>\n",
              "    </tr>\n",
              "    <tr>\n",
              "      <th>4</th>\n",
              "      <td>1</td>\n",
              "      <td>2</td>\n",
              "      <td>this is a good day to stand up for yourself an...</td>\n",
              "      <td>good day stand make known pushover, aries. use...</td>\n",
              "    </tr>\n",
              "    <tr>\n",
              "      <th>...</th>\n",
              "      <td>...</td>\n",
              "      <td>...</td>\n",
              "      <td>...</td>\n",
              "      <td>...</td>\n",
              "    </tr>\n",
              "    <tr>\n",
              "      <th>21954</th>\n",
              "      <td>7</td>\n",
              "      <td>0</td>\n",
              "      <td>celebrate in style on your birthday in prepara...</td>\n",
              "      <td>celebrate style birthday preparation great thi...</td>\n",
              "    </tr>\n",
              "    <tr>\n",
              "      <th>21955</th>\n",
              "      <td>7</td>\n",
              "      <td>0</td>\n",
              "      <td>imagine your life as if it was exactly the way...</td>\n",
              "      <td>imagine life exactly way wanted it. birthday y...</td>\n",
              "    </tr>\n",
              "    <tr>\n",
              "      <th>21956</th>\n",
              "      <td>7</td>\n",
              "      <td>0</td>\n",
              "      <td>fun, playfulness, and humor are easy to manife...</td>\n",
              "      <td>fun, playfulness, humor easy manifest year bir...</td>\n",
              "    </tr>\n",
              "    <tr>\n",
              "      <th>21957</th>\n",
              "      <td>7</td>\n",
              "      <td>0</td>\n",
              "      <td>your birthday brings you a fresh start, as you...</td>\n",
              "      <td>birthday brings fresh start, clear away cobweb...</td>\n",
              "    </tr>\n",
              "    <tr>\n",
              "      <th>21958</th>\n",
              "      <td>7</td>\n",
              "      <td>0</td>\n",
              "      <td>you will probably enjoy being the center of at...</td>\n",
              "      <td>probably enjoy center attention birthday, july...</td>\n",
              "    </tr>\n",
              "  </tbody>\n",
              "</table>\n",
              "<p>21959 rows × 4 columns</p>\n",
              "</div>"
            ],
            "text/plain": [
              "       sign  ...                                 horoscope_stopword\n",
              "0         1  ...  there's great day ahead you, aries. blessed ab...\n",
              "1         1  ...  people understand appreciate desire stand crow...\n",
              "2         1  ...  interested technological breakthroughs innovat...\n",
              "3         1  ...  stress overwork could feeling weaker usual. mi...\n",
              "4         1  ...  good day stand make known pushover, aries. use...\n",
              "...     ...  ...                                                ...\n",
              "21954     7  ...  celebrate style birthday preparation great thi...\n",
              "21955     7  ...  imagine life exactly way wanted it. birthday y...\n",
              "21956     7  ...  fun, playfulness, humor easy manifest year bir...\n",
              "21957     7  ...  birthday brings fresh start, clear away cobweb...\n",
              "21958     7  ...  probably enjoy center attention birthday, july...\n",
              "\n",
              "[21959 rows x 4 columns]"
            ]
          },
          "metadata": {},
          "execution_count": 8
        }
      ],
      "source": [
        "#label encoding\n",
        "\n",
        "# Import label encoder \n",
        "from sklearn import preprocessing\n",
        "label_encoder = preprocessing.LabelEncoder() \n",
        "df['sign']= label_encoder.fit_transform(df['sign']) \n",
        "df['category']= label_encoder.fit_transform(df['category'])\n",
        "\n",
        "df"
      ]
    },
    {
      "cell_type": "code",
      "source": [
        "#one-hot-encoding\n",
        "\n",
        "sign = pd.get_dummies(df.sign)\n",
        "category = pd.get_dummies(df.category)\n",
        "new_df = pd.concat([df, sign, category], axis=1) #, category\n",
        "new_df = new_df.drop(columns='sign')\n",
        "new_df = new_df.drop(columns='category')\n",
        "new_df"
      ],
      "metadata": {
        "id": "wdWh_sGuYmm5"
      },
      "execution_count": null,
      "outputs": []
    },
    {
      "cell_type": "code",
      "source": [
        "#one-hot-encoding 2\n",
        "\n",
        "sign = pd.get_dummies(df.sign)\n",
        "category = pd.get_dummies(df.category)\n",
        "new_df = pd.concat([df, sign], axis=1) #, category\n",
        "new_df = new_df.drop(columns='sign')\n",
        "new_df"
      ],
      "metadata": {
        "id": "URfREiAKwGd7"
      },
      "execution_count": null,
      "outputs": []
    },
    {
      "cell_type": "code",
      "execution_count": null,
      "metadata": {
        "id": "iLpJuYeH4RES"
      },
      "outputs": [],
      "source": [
        "horo = new_df['horoscope'].values\n",
        "labels = new_df[['aquarius', 'aries', 'cancer', 'capricorn', 'gemini', 'leo', 'libra', 'pisces', 'sagittarius', 'scorpio', 'taurus', 'virgo', 'birthday', 'career', 'general', 'love', 'wellness']].values #, 'birthday', 'career', 'general', 'love', 'wellness'"
      ]
    },
    {
      "cell_type": "code",
      "source": [
        "horo = new_df['horoscope'].values\n",
        "labels = new_df[['aquarius', 'aries', 'cancer', 'capricorn', 'gemini', 'leo', 'libra', 'pisces', 'sagittarius', 'scorpio', 'taurus', 'virgo']].values #, 'birthday', 'career', 'general', 'love', 'wellness'"
      ],
      "metadata": {
        "id": "Ye6mDmJtwPvm"
      },
      "execution_count": null,
      "outputs": []
    },
    {
      "cell_type": "code",
      "source": [
        "horo = df['horoscope_stopword'].values\n",
        "labels = df[['sign', 'category']].values"
      ],
      "metadata": {
        "id": "6jYDE6pBvCwb"
      },
      "execution_count": null,
      "outputs": []
    },
    {
      "cell_type": "code",
      "execution_count": null,
      "metadata": {
        "id": "ecqrivmn4x8R"
      },
      "outputs": [],
      "source": [
        "#memisahkan data training dan validasi (data validasi hanya terdiri 20% dari total dataset)\n",
        "horo_latih, horo_test, labels_latih, labels_test = train_test_split(horo, labels, test_size=0.2)"
      ]
    },
    {
      "cell_type": "code",
      "execution_count": null,
      "metadata": {
        "id": "OxWXNiHndrqO"
      },
      "outputs": [],
      "source": [
        "#fungsi tokenizer\n",
        "#filt = '!\"#$%&()*+.,-/:;=?@[\\]^_`{|}~ '\n",
        "\n",
        "tokenizer = Tokenizer(num_words=5000, oov_token='x')\n",
        "tokenizer.fit_on_texts(horo_latih)\n",
        "tokenizer.fit_on_texts(horo_test)\n",
        " \n",
        "sekuens_latih = tokenizer.texts_to_sequences(horo_latih)\n",
        "sekuens_test = tokenizer.texts_to_sequences(horo_test)\n",
        " \n",
        "padded_latih = pad_sequences(sekuens_latih) \n",
        "padded_test = pad_sequences(sekuens_test)"
      ]
    },
    {
      "cell_type": "markdown",
      "metadata": {
        "id": "xG-fr7OF34LL"
      },
      "source": [
        "**Modeling**"
      ]
    },
    {
      "cell_type": "code",
      "execution_count": null,
      "metadata": {
        "id": "9CMvymDjCafA"
      },
      "outputs": [],
      "source": [
        "#implementasi callback\n",
        "\n",
        "class myCallback(tf.keras.callbacks.Callback):\n",
        "  def on_epoch_end(self, epoch, logs={}):\n",
        "    if(logs.get('accuracy')>0.9 and \n",
        "       logs.get('val_accuracy')>0.9):\n",
        "      print(\"\\nAkurasi telah mencapai >90%!\")\n",
        "      self.model.stop_training = True\n",
        "callbacks = myCallback()"
      ]
    },
    {
      "cell_type": "code",
      "execution_count": null,
      "metadata": {
        "id": "6gpWnCgW4CAb",
        "colab": {
          "base_uri": "https://localhost:8080/"
        },
        "outputId": "4107d897-fb12-4980-c168-1c72c6589247"
      },
      "outputs": [
        {
          "output_type": "stream",
          "name": "stdout",
          "text": [
            "Model: \"sequential_1\"\n",
            "_________________________________________________________________\n",
            " Layer (type)                Output Shape              Param #   \n",
            "=================================================================\n",
            " embedding_1 (Embedding)     (None, None, 32)          416000    \n",
            "                                                                 \n",
            " lstm_1 (LSTM)               (None, 128)               82432     \n",
            "                                                                 \n",
            " dense_2 (Dense)             (None, 64)                8256      \n",
            "                                                                 \n",
            " dense_3 (Dense)             (None, 2)                 130       \n",
            "                                                                 \n",
            "=================================================================\n",
            "Total params: 506,818\n",
            "Trainable params: 506,818\n",
            "Non-trainable params: 0\n",
            "_________________________________________________________________\n"
          ]
        }
      ],
      "source": [
        "#Arsitektur model machine learning dengan menggunakan embedding dan LSTM\n",
        "model = tf.keras.Sequential([\n",
        "    tf.keras.layers.Embedding(input_dim=13000, output_dim=32),\n",
        "    tf.keras.layers.LSTM(128),\n",
        "    tf.keras.layers.Dense(64, activation='relu'),\n",
        "    tf.keras.layers.Dense(2, activation='softmax')\n",
        "])\n",
        "model.summary()"
      ]
    },
    {
      "cell_type": "code",
      "execution_count": null,
      "metadata": {
        "id": "qVz7ztuTd28D"
      },
      "outputs": [],
      "source": [
        "#compiler\n",
        "model.compile(loss='categorical_crossentropy',optimizer='adam',metrics=['accuracy'])"
      ]
    },
    {
      "cell_type": "code",
      "execution_count": null,
      "metadata": {
        "colab": {
          "base_uri": "https://localhost:8080/"
        },
        "id": "AsVpCc9ECXf2",
        "outputId": "34a94866-50df-4e4d-cb90-eafd353d2341"
      },
      "outputs": [
        {
          "output_type": "stream",
          "name": "stdout",
          "text": [
            "Epoch 1/10\n",
            "549/549 - 59s - loss: 129.7870 - accuracy: 0.8317 - val_loss: 274.2305 - val_accuracy: 0.8333 - 59s/epoch - 107ms/step\n",
            "Epoch 2/10\n",
            "549/549 - 56s - loss: 416.5130 - accuracy: 0.8334 - val_loss: 562.8824 - val_accuracy: 0.8333 - 56s/epoch - 101ms/step\n",
            "Epoch 3/10\n",
            "549/549 - 56s - loss: 686.4218 - accuracy: 0.8334 - val_loss: 804.7842 - val_accuracy: 0.8333 - 56s/epoch - 102ms/step\n",
            "Epoch 4/10\n",
            "549/549 - 56s - loss: 922.9142 - accuracy: 0.8334 - val_loss: 1038.4265 - val_accuracy: 0.8333 - 56s/epoch - 103ms/step\n",
            "Epoch 5/10\n",
            "549/549 - 56s - loss: 1150.6116 - accuracy: 0.8334 - val_loss: 1211.8596 - val_accuracy: 0.8333 - 56s/epoch - 102ms/step\n",
            "Epoch 6/10\n",
            "549/549 - 57s - loss: 1298.7444 - accuracy: 0.8334 - val_loss: 1508.0471 - val_accuracy: 0.8333 - 57s/epoch - 103ms/step\n",
            "Epoch 7/10\n",
            "549/549 - 57s - loss: 1538.7921 - accuracy: 0.8334 - val_loss: 1709.3674 - val_accuracy: 0.8333 - 57s/epoch - 103ms/step\n",
            "Epoch 8/10\n",
            "549/549 - 58s - loss: 1788.1711 - accuracy: 0.8334 - val_loss: 1868.7513 - val_accuracy: 0.8333 - 58s/epoch - 105ms/step\n",
            "Epoch 9/10\n",
            "549/549 - 56s - loss: 1973.5181 - accuracy: 0.8334 - val_loss: 2007.6637 - val_accuracy: 0.8333 - 56s/epoch - 103ms/step\n",
            "Epoch 10/10\n",
            "549/549 - 56s - loss: 2118.1736 - accuracy: 0.8334 - val_loss: 2117.9275 - val_accuracy: 0.8333 - 56s/epoch - 102ms/step\n"
          ]
        }
      ],
      "source": [
        "num_epochs = 10\n",
        "history = model.fit(padded_latih, labels_latih, epochs=num_epochs, \n",
        "                    validation_data=(padded_test, labels_test), verbose=2, callbacks=[callbacks])"
      ]
    },
    {
      "cell_type": "code",
      "source": [
        "model.save(\"machinelearning.h5\")"
      ],
      "metadata": {
        "id": "cM6YxyifBQUG"
      },
      "execution_count": null,
      "outputs": []
    },
    {
      "cell_type": "markdown",
      "source": [
        "Save Model to TFjs"
      ],
      "metadata": {
        "id": "89HnhJoNCm8d"
      }
    },
    {
      "cell_type": "code",
      "source": [
        "!pip install tensorflowjs"
      ],
      "metadata": {
        "id": "rA11JHvFCZX8",
        "colab": {
          "base_uri": "https://localhost:8080/"
        },
        "outputId": "82f9f626-9ede-4ccb-caff-05904e36fb42"
      },
      "execution_count": null,
      "outputs": [
        {
          "output_type": "stream",
          "name": "stdout",
          "text": [
            "Collecting tensorflowjs\n",
            "  Downloading tensorflowjs-3.12.0-py3-none-any.whl (77 kB)\n",
            "\u001b[?25l\r\u001b[K     |████▎                           | 10 kB 21.2 MB/s eta 0:00:01\r\u001b[K     |████████▌                       | 20 kB 25.5 MB/s eta 0:00:01\r\u001b[K     |████████████▊                   | 30 kB 31.9 MB/s eta 0:00:01\r\u001b[K     |█████████████████               | 40 kB 24.9 MB/s eta 0:00:01\r\u001b[K     |█████████████████████▏          | 51 kB 19.1 MB/s eta 0:00:01\r\u001b[K     |█████████████████████████▍      | 61 kB 13.3 MB/s eta 0:00:01\r\u001b[K     |█████████████████████████████▊  | 71 kB 12.8 MB/s eta 0:00:01\r\u001b[K     |████████████████████████████████| 77 kB 4.2 MB/s \n",
            "\u001b[?25hRequirement already satisfied: tensorflow-hub<0.13,>=0.7.0 in /usr/local/lib/python3.7/dist-packages (from tensorflowjs) (0.12.0)\n",
            "Requirement already satisfied: tensorflow<3,>=2.1.0 in /usr/local/lib/python3.7/dist-packages (from tensorflowjs) (2.7.0)\n",
            "Requirement already satisfied: six<2,>=1.12.0 in /usr/local/lib/python3.7/dist-packages (from tensorflowjs) (1.15.0)\n",
            "Requirement already satisfied: h5py>=2.9.0 in /usr/local/lib/python3.7/dist-packages (from tensorflow<3,>=2.1.0->tensorflowjs) (3.1.0)\n",
            "Requirement already satisfied: gast<0.5.0,>=0.2.1 in /usr/local/lib/python3.7/dist-packages (from tensorflow<3,>=2.1.0->tensorflowjs) (0.4.0)\n",
            "Requirement already satisfied: tensorboard~=2.6 in /usr/local/lib/python3.7/dist-packages (from tensorflow<3,>=2.1.0->tensorflowjs) (2.7.0)\n",
            "Requirement already satisfied: libclang>=9.0.1 in /usr/local/lib/python3.7/dist-packages (from tensorflow<3,>=2.1.0->tensorflowjs) (12.0.0)\n",
            "Requirement already satisfied: opt-einsum>=2.3.2 in /usr/local/lib/python3.7/dist-packages (from tensorflow<3,>=2.1.0->tensorflowjs) (3.3.0)\n",
            "Requirement already satisfied: wrapt>=1.11.0 in /usr/local/lib/python3.7/dist-packages (from tensorflow<3,>=2.1.0->tensorflowjs) (1.13.3)\n",
            "Requirement already satisfied: termcolor>=1.1.0 in /usr/local/lib/python3.7/dist-packages (from tensorflow<3,>=2.1.0->tensorflowjs) (1.1.0)\n",
            "Requirement already satisfied: tensorflow-estimator<2.8,~=2.7.0rc0 in /usr/local/lib/python3.7/dist-packages (from tensorflow<3,>=2.1.0->tensorflowjs) (2.7.0)\n",
            "Requirement already satisfied: google-pasta>=0.1.1 in /usr/local/lib/python3.7/dist-packages (from tensorflow<3,>=2.1.0->tensorflowjs) (0.2.0)\n",
            "Requirement already satisfied: flatbuffers<3.0,>=1.12 in /usr/local/lib/python3.7/dist-packages (from tensorflow<3,>=2.1.0->tensorflowjs) (2.0)\n",
            "Requirement already satisfied: keras-preprocessing>=1.1.1 in /usr/local/lib/python3.7/dist-packages (from tensorflow<3,>=2.1.0->tensorflowjs) (1.1.2)\n",
            "Requirement already satisfied: numpy>=1.14.5 in /usr/local/lib/python3.7/dist-packages (from tensorflow<3,>=2.1.0->tensorflowjs) (1.19.5)\n",
            "Requirement already satisfied: tensorflow-io-gcs-filesystem>=0.21.0 in /usr/local/lib/python3.7/dist-packages (from tensorflow<3,>=2.1.0->tensorflowjs) (0.22.0)\n",
            "Requirement already satisfied: grpcio<2.0,>=1.24.3 in /usr/local/lib/python3.7/dist-packages (from tensorflow<3,>=2.1.0->tensorflowjs) (1.42.0)\n",
            "Requirement already satisfied: wheel<1.0,>=0.32.0 in /usr/local/lib/python3.7/dist-packages (from tensorflow<3,>=2.1.0->tensorflowjs) (0.37.0)\n",
            "Requirement already satisfied: absl-py>=0.4.0 in /usr/local/lib/python3.7/dist-packages (from tensorflow<3,>=2.1.0->tensorflowjs) (0.12.0)\n",
            "Requirement already satisfied: typing-extensions>=3.6.6 in /usr/local/lib/python3.7/dist-packages (from tensorflow<3,>=2.1.0->tensorflowjs) (3.10.0.2)\n",
            "Requirement already satisfied: astunparse>=1.6.0 in /usr/local/lib/python3.7/dist-packages (from tensorflow<3,>=2.1.0->tensorflowjs) (1.6.3)\n",
            "Requirement already satisfied: protobuf>=3.9.2 in /usr/local/lib/python3.7/dist-packages (from tensorflow<3,>=2.1.0->tensorflowjs) (3.17.3)\n",
            "Requirement already satisfied: keras<2.8,>=2.7.0rc0 in /usr/local/lib/python3.7/dist-packages (from tensorflow<3,>=2.1.0->tensorflowjs) (2.7.0)\n",
            "Requirement already satisfied: cached-property in /usr/local/lib/python3.7/dist-packages (from h5py>=2.9.0->tensorflow<3,>=2.1.0->tensorflowjs) (1.5.2)\n",
            "Requirement already satisfied: requests<3,>=2.21.0 in /usr/local/lib/python3.7/dist-packages (from tensorboard~=2.6->tensorflow<3,>=2.1.0->tensorflowjs) (2.23.0)\n",
            "Requirement already satisfied: werkzeug>=0.11.15 in /usr/local/lib/python3.7/dist-packages (from tensorboard~=2.6->tensorflow<3,>=2.1.0->tensorflowjs) (1.0.1)\n",
            "Requirement already satisfied: google-auth-oauthlib<0.5,>=0.4.1 in /usr/local/lib/python3.7/dist-packages (from tensorboard~=2.6->tensorflow<3,>=2.1.0->tensorflowjs) (0.4.6)\n",
            "Requirement already satisfied: google-auth<3,>=1.6.3 in /usr/local/lib/python3.7/dist-packages (from tensorboard~=2.6->tensorflow<3,>=2.1.0->tensorflowjs) (1.35.0)\n",
            "Requirement already satisfied: markdown>=2.6.8 in /usr/local/lib/python3.7/dist-packages (from tensorboard~=2.6->tensorflow<3,>=2.1.0->tensorflowjs) (3.3.6)\n",
            "Requirement already satisfied: setuptools>=41.0.0 in /usr/local/lib/python3.7/dist-packages (from tensorboard~=2.6->tensorflow<3,>=2.1.0->tensorflowjs) (57.4.0)\n",
            "Requirement already satisfied: tensorboard-plugin-wit>=1.6.0 in /usr/local/lib/python3.7/dist-packages (from tensorboard~=2.6->tensorflow<3,>=2.1.0->tensorflowjs) (1.8.0)\n",
            "Requirement already satisfied: tensorboard-data-server<0.7.0,>=0.6.0 in /usr/local/lib/python3.7/dist-packages (from tensorboard~=2.6->tensorflow<3,>=2.1.0->tensorflowjs) (0.6.1)\n",
            "Requirement already satisfied: pyasn1-modules>=0.2.1 in /usr/local/lib/python3.7/dist-packages (from google-auth<3,>=1.6.3->tensorboard~=2.6->tensorflow<3,>=2.1.0->tensorflowjs) (0.2.8)\n",
            "Requirement already satisfied: cachetools<5.0,>=2.0.0 in /usr/local/lib/python3.7/dist-packages (from google-auth<3,>=1.6.3->tensorboard~=2.6->tensorflow<3,>=2.1.0->tensorflowjs) (4.2.4)\n",
            "Requirement already satisfied: rsa<5,>=3.1.4 in /usr/local/lib/python3.7/dist-packages (from google-auth<3,>=1.6.3->tensorboard~=2.6->tensorflow<3,>=2.1.0->tensorflowjs) (4.8)\n",
            "Requirement already satisfied: requests-oauthlib>=0.7.0 in /usr/local/lib/python3.7/dist-packages (from google-auth-oauthlib<0.5,>=0.4.1->tensorboard~=2.6->tensorflow<3,>=2.1.0->tensorflowjs) (1.3.0)\n",
            "Requirement already satisfied: importlib-metadata>=4.4 in /usr/local/lib/python3.7/dist-packages (from markdown>=2.6.8->tensorboard~=2.6->tensorflow<3,>=2.1.0->tensorflowjs) (4.8.2)\n",
            "Requirement already satisfied: zipp>=0.5 in /usr/local/lib/python3.7/dist-packages (from importlib-metadata>=4.4->markdown>=2.6.8->tensorboard~=2.6->tensorflow<3,>=2.1.0->tensorflowjs) (3.6.0)\n",
            "Requirement already satisfied: pyasn1<0.5.0,>=0.4.6 in /usr/local/lib/python3.7/dist-packages (from pyasn1-modules>=0.2.1->google-auth<3,>=1.6.3->tensorboard~=2.6->tensorflow<3,>=2.1.0->tensorflowjs) (0.4.8)\n",
            "Requirement already satisfied: chardet<4,>=3.0.2 in /usr/local/lib/python3.7/dist-packages (from requests<3,>=2.21.0->tensorboard~=2.6->tensorflow<3,>=2.1.0->tensorflowjs) (3.0.4)\n",
            "Requirement already satisfied: idna<3,>=2.5 in /usr/local/lib/python3.7/dist-packages (from requests<3,>=2.21.0->tensorboard~=2.6->tensorflow<3,>=2.1.0->tensorflowjs) (2.10)\n",
            "Requirement already satisfied: certifi>=2017.4.17 in /usr/local/lib/python3.7/dist-packages (from requests<3,>=2.21.0->tensorboard~=2.6->tensorflow<3,>=2.1.0->tensorflowjs) (2021.10.8)\n",
            "Requirement already satisfied: urllib3!=1.25.0,!=1.25.1,<1.26,>=1.21.1 in /usr/local/lib/python3.7/dist-packages (from requests<3,>=2.21.0->tensorboard~=2.6->tensorflow<3,>=2.1.0->tensorflowjs) (1.24.3)\n",
            "Requirement already satisfied: oauthlib>=3.0.0 in /usr/local/lib/python3.7/dist-packages (from requests-oauthlib>=0.7.0->google-auth-oauthlib<0.5,>=0.4.1->tensorboard~=2.6->tensorflow<3,>=2.1.0->tensorflowjs) (3.1.1)\n",
            "Installing collected packages: tensorflowjs\n",
            "Successfully installed tensorflowjs-3.12.0\n"
          ]
        }
      ]
    },
    {
      "cell_type": "code",
      "source": [
        "saved_model_path = '/content/mymodel/'\n",
        "tf.saved_model.save(model, saved_model_path)"
      ],
      "metadata": {
        "id": "SK-HdMqoCqAv",
        "colab": {
          "base_uri": "https://localhost:8080/"
        },
        "outputId": "f15c093f-8c0b-4aba-9bc2-3a424476e256"
      },
      "execution_count": null,
      "outputs": [
        {
          "output_type": "stream",
          "name": "stderr",
          "text": [
            "WARNING:absl:Found untraced functions such as lstm_cell_1_layer_call_fn, lstm_cell_1_layer_call_and_return_conditional_losses, lstm_cell_1_layer_call_fn, lstm_cell_1_layer_call_and_return_conditional_losses, lstm_cell_1_layer_call_and_return_conditional_losses while saving (showing 5 of 5). These functions will not be directly callable after loading.\n"
          ]
        },
        {
          "output_type": "stream",
          "name": "stdout",
          "text": [
            "INFO:tensorflow:Assets written to: /content/mymodel/assets\n"
          ]
        },
        {
          "output_type": "stream",
          "name": "stderr",
          "text": [
            "INFO:tensorflow:Assets written to: /content/mymodel/assets\n"
          ]
        }
      ]
    },
    {
      "cell_type": "code",
      "source": [
        "!tensorflowjs_converter \\\n",
        "  --input_format=tf_saved_model \\\n",
        "  /content/mymodel/ \\\n",
        "  /content/modeltfjs"
      ],
      "metadata": {
        "id": "N0iov5WSCtkS",
        "colab": {
          "base_uri": "https://localhost:8080/"
        },
        "outputId": "e56f5a4d-72bb-49fb-db22-c2cde4afc975"
      },
      "execution_count": null,
      "outputs": [
        {
          "output_type": "stream",
          "name": "stdout",
          "text": [
            "2021-12-20 11:44:42.993898: E tensorflow/stream_executor/cuda/cuda_driver.cc:271] failed call to cuInit: CUDA_ERROR_NO_DEVICE: no CUDA-capable device is detected\n",
            "Writing weight file /content/modeltfjs/model.json...\n"
          ]
        }
      ]
    }
  ],
  "metadata": {
    "colab": {
      "name": "MachineLearning.ipynb",
      "provenance": [],
      "collapsed_sections": []
    },
    "kernelspec": {
      "display_name": "Python 3",
      "name": "python3"
    },
    "language_info": {
      "name": "python"
    },
    "accelerator": "GPU"
  },
  "nbformat": 4,
  "nbformat_minor": 0
}